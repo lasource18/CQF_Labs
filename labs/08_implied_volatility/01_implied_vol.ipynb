{
 "cells": [
  {
   "cell_type": "markdown",
   "metadata": {},
   "source": [
    "# Implied Volatility"
   ]
  },
  {
   "cell_type": "markdown",
   "metadata": {},
   "source": [
    "\n",
    "## Import Required Libraries"
   ]
  },
  {
   "cell_type": "code",
   "execution_count": 1,
   "metadata": {},
   "outputs": [],
   "source": [
    "# Data Manipulation\n",
    "import numpy as np\n",
    "from datetime import datetime\n",
    "\n",
    "# Import blackscholes object\n",
    "from src.optionpricer2 import BS\n",
    "from tabulate import tabulate"
   ]
  },
  {
   "cell_type": "markdown",
   "metadata": {},
   "source": [
    "# Implied Volatility Formulation"
   ]
  },
  {
   "cell_type": "markdown",
   "metadata": {},
   "source": [
    "## Newton Method"
   ]
  },
  {
   "cell_type": "code",
   "execution_count": 2,
   "metadata": {},
   "outputs": [],
   "source": [
    "def newton_iv(className, spot, strike, rate, dte, callprice=None, putprice=None):\n",
    "    x0 = 1  # initial guess\n",
    "    h = 0.001  # step size\n",
    "    tolerance = 1e-7  # 7-digit accuracy is desired\n",
    "    epsilon = 1e-14  # do not divide by a number smaller than this, some kind of error / floor\n",
    "    maxiter = 200  # maximum number of iterations to execute\n",
    "    # function whose root we are trying to find\n",
    "    # f(x) = Black Scholes Call price - Market Price - defining the f(x) here\n",
    "    if callprice:\n",
    "        f = lambda x: eval(className)(spot, strike, rate, dte, x).callPrice - callprice\n",
    "    if putprice:\n",
    "        f = lambda x: eval(className)(spot, strike, rate, dte, x).putPrice - putprice\n",
    "    for i in range(maxiter):\n",
    "        y = f(x0)  # starting with initial guess\n",
    "        yprime = (f(x0 + h) - f(x0 - h)) / (\n",
    "            2 * h\n",
    "        )  # central difference, the derivative of the function\n",
    "\n",
    "        if abs(yprime) < epsilon:  # stop if the denominator is too small\n",
    "            break\n",
    "        x1 = x0 - y / yprime  # perform Newton's computation\n",
    "\n",
    "        if abs(x1 - x0) <= tolerance * abs(\n",
    "            x1\n",
    "        ):  # stop when the result is within the desired tolerance\n",
    "            break\n",
    "\n",
    "        x0 = x1  # update x0 to start the process again\n",
    "\n",
    "    return x1  # x1 is a solution within tolerance and maximum number of iterations"
   ]
  },
  {
   "cell_type": "code",
   "execution_count": 3,
   "metadata": {},
   "outputs": [
    {
     "data": {
      "text/plain": [
       "0.17657213831399154"
      ]
     },
     "execution_count": 3,
     "metadata": {},
     "output_type": "execute_result"
    }
   ],
   "source": [
    "# newton iv\n",
    "args = (100, 100, 0.02, 1)\n",
    "vol = newton_iv(\"BS\", *args, callprice=8)\n",
    "vol"
   ]
  },
  {
   "cell_type": "code",
   "execution_count": 4,
   "metadata": {},
   "outputs": [
    {
     "data": {
      "text/plain": [
       "7.999999999999986"
      ]
     },
     "execution_count": 4,
     "metadata": {},
     "output_type": "execute_result"
    }
   ],
   "source": [
    "# validate that it works\n",
    "BS(100, 100, 0.02, 1, vol).callPrice"
   ]
  },
  {
   "cell_type": "markdown",
   "metadata": {},
   "source": [
    "## Bisection Method"
   ]
  },
  {
   "cell_type": "code",
   "execution_count": 5,
   "metadata": {},
   "outputs": [],
   "source": [
    "# Bisection Method\n",
    "def bisection_iv(className, spot, strike, rate, dte, callprice=None, putprice=None, high=500.0, low=0.0):\n",
    "    # this is market price\n",
    "    if callprice:\n",
    "        price = callprice\n",
    "    \n",
    "    if putprice and not callprice:\n",
    "        price = putprice\n",
    "    \n",
    "    tolerance = 1e-7\n",
    "    \n",
    "    for i in range(1000):\n",
    "        mid = (high + low) / 2 # c= (a+b)/2\n",
    "        if mid < tolerance:\n",
    "            mid = tolerance\n",
    "\n",
    "        if callprice:\n",
    "            estimate = eval(className)(spot, strike, rate, dte, mid).callPrice # Blackscholes price\n",
    "\n",
    "        if putprice:\n",
    "            estimate = eval(className)(spot, strike, rate, dte, mid).putPrice\n",
    "\n",
    "        if round(estimate,6) == price:\n",
    "            break\n",
    "        elif estimate > price:\n",
    "            high = mid # replace c with b | b = c\n",
    "        elif estimate < price:\n",
    "            low = mid # replace c with a | a = c\n",
    "    return mid"
   ]
  },
  {
   "cell_type": "code",
   "execution_count": 6,
   "metadata": {},
   "outputs": [
    {
     "data": {
      "text/plain": [
       "0.17657213902566582"
      ]
     },
     "execution_count": 6,
     "metadata": {},
     "output_type": "execute_result"
    }
   ],
   "source": [
    "# bisection iv\n",
    "vol = bisection_iv('BS', *args, callprice=8)\n",
    "vol"
   ]
  },
  {
   "cell_type": "code",
   "execution_count": 7,
   "metadata": {},
   "outputs": [
    {
     "data": {
      "text/plain": [
       "8.000000027820803"
      ]
     },
     "execution_count": 7,
     "metadata": {},
     "output_type": "execute_result"
    }
   ],
   "source": [
    "# validate that it works\n",
    "BS(100, 100, 0.02, 1, vol).callPrice"
   ]
  },
  {
   "cell_type": "markdown",
   "metadata": {},
   "source": [
    "# BS Implied Volatility"
   ]
  },
  {
   "cell_type": "code",
   "execution_count": 8,
   "metadata": {},
   "outputs": [
    {
     "name": "stdout",
     "output_type": "stream",
     "text": [
      "  Option Price     Delta     Gamma       Theta      Vega       Rho        IV\n",
      "--------------  --------  --------  ----------  --------  --------  --------\n",
      "       10       0.64057   0.019892  -0.0170332  0.373913  0.54057   0.187972\n",
      "       10.4506  0.636831  0.018762  -0.0175727  0.37524   0.532325  0.2\n"
     ]
    }
   ],
   "source": [
    "# Initialize option\n",
    "call_by_price = BS(100,100,0.05,1, callprice=10)\n",
    "call_by_vol = BS(100,100,0.05,1, volatility=.2)\n",
    "\n",
    "header = ['Option Price', 'Delta', 'Gamma', 'Theta', 'Vega', 'Rho', 'IV']\n",
    "table = [\n",
    "    [option.callPrice, option.callDelta, option.gamma, option.callTheta, option.vega, option.callRho, option.impvol]\n",
    "    for option in [call_by_price, call_by_vol]\n",
    "]\n",
    "\n",
    "print(tabulate(table,header))"
   ]
  },
  {
   "cell_type": "markdown",
   "metadata": {},
   "source": [
    "# Reference"
   ]
  },
  {
   "cell_type": "markdown",
   "metadata": {},
   "source": [
    "https://micropython-ulab.readthedocs.io/en/latest/scipy-optimize.html"
   ]
  }
 ],
 "metadata": {
  "kernelspec": {
   "display_name": "app",
   "language": "python",
   "name": "app"
  },
  "language_info": {
   "codemirror_mode": {
    "name": "ipython",
    "version": 3
   },
   "file_extension": ".py",
   "mimetype": "text/x-python",
   "name": "python",
   "nbconvert_exporter": "python",
   "pygments_lexer": "ipython3",
   "version": "3.9.17"
  },
  "orig_nbformat": 4
 },
 "nbformat": 4,
 "nbformat_minor": 2
}
