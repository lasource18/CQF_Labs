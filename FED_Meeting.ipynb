{
  "nbformat": 4,
  "nbformat_minor": 0,
  "metadata": {
    "colab": {
      "provenance": [],
      "gpuType": "T4",
      "private_outputs": true,
      "include_colab_link": true
    },
    "kernelspec": {
      "name": "python3",
      "display_name": "Python 3"
    },
    "language_info": {
      "name": "python"
    },
    "accelerator": "GPU"
  },
  "cells": [
    {
      "cell_type": "markdown",
      "metadata": {
        "id": "view-in-github",
        "colab_type": "text"
      },
      "source": [
        "<a href=\"https://colab.research.google.com/github/lasource18/CQF_Labs/blob/main/FED_Meeting.ipynb\" target=\"_parent\"><img src=\"https://colab.research.google.com/assets/colab-badge.svg\" alt=\"Open In Colab\"/></a>"
      ]
    },
    {
      "cell_type": "markdown",
      "source": [
        "Install OpenAI Whisper Python Package"
      ],
      "metadata": {
        "id": "L0fotrXZ7LJn"
      }
    },
    {
      "cell_type": "code",
      "execution_count": null,
      "metadata": {
        "id": "ZwA3PzV96zD6"
      },
      "outputs": [],
      "source": [
        "!pip install git+https://github.com/openai/whisper.git -q"
      ]
    },
    {
      "cell_type": "markdown",
      "source": [],
      "metadata": {
        "id": "e-MHG3Ui7Jhc"
      }
    },
    {
      "cell_type": "code",
      "source": [
        "!nvidia-smi -L"
      ],
      "metadata": {
        "id": "SSIBpXNe7EqU"
      },
      "execution_count": null,
      "outputs": []
    },
    {
      "cell_type": "markdown",
      "source": [
        "Whisper transcribes audio speech to text"
      ],
      "metadata": {
        "id": "Zc4JClRT70_b"
      }
    },
    {
      "cell_type": "code",
      "source": [
        "!pip install pytube -q"
      ],
      "metadata": {
        "id": "XXZfQ26b7zMc"
      },
      "execution_count": null,
      "outputs": []
    },
    {
      "cell_type": "code",
      "source": [
        "import whisper\n",
        "from pytube import YouTube"
      ],
      "metadata": {
        "id": "eDpmk9GG8Hjb"
      },
      "execution_count": null,
      "outputs": []
    },
    {
      "cell_type": "code",
      "source": [
        "# model types: tiny, base, small, medium, large\n",
        "model = whisper.load_model('base')"
      ],
      "metadata": {
        "id": "Zo8ZiUTb8MrN"
      },
      "execution_count": null,
      "outputs": []
    },
    {
      "cell_type": "code",
      "source": [
        "#yt_vid_url = 'https://youtube.com/watch?v=NT2H9iyd-ms'\n",
        "yt_vid_url = 'https://www.youtube.com/watch?v=UYnc6bsgkJQ'\n",
        "yt_vid = YouTube(yt_vid_url)"
      ],
      "metadata": {
        "id": "rizNqnWo_3AO"
      },
      "execution_count": null,
      "outputs": []
    },
    {
      "cell_type": "code",
      "source": [
        "yt_vid.title"
      ],
      "metadata": {
        "id": "IeIcAAwMAJNg"
      },
      "execution_count": null,
      "outputs": []
    },
    {
      "cell_type": "code",
      "source": [
        "yt_vid.streams"
      ],
      "metadata": {
        "id": "gYl2lTnnASy0"
      },
      "execution_count": null,
      "outputs": []
    },
    {
      "cell_type": "markdown",
      "source": [],
      "metadata": {
        "id": "vxQaKaMN_2eh"
      }
    },
    {
      "cell_type": "code",
      "source": [
        "dir(yt_vid)"
      ],
      "metadata": {
        "id": "CjZxRG90AZ0r"
      },
      "execution_count": null,
      "outputs": []
    },
    {
      "cell_type": "code",
      "source": [
        "for stream in yt_vid.streams:\n",
        "  print(stream)"
      ],
      "metadata": {
        "id": "HpKImMsFAfil"
      },
      "execution_count": null,
      "outputs": []
    },
    {
      "cell_type": "code",
      "source": [
        "streams = yt_vid.streams.filter(only_audio=True)\n",
        "streams"
      ],
      "metadata": {
        "id": "a0RIEg_mAmZ8"
      },
      "execution_count": null,
      "outputs": []
    },
    {
      "cell_type": "code",
      "source": [
        "stream = streams.first()\n",
        "stream"
      ],
      "metadata": {
        "id": "IJHMjZBCA5Op"
      },
      "execution_count": null,
      "outputs": []
    },
    {
      "cell_type": "code",
      "source": [
        "stream.download(filename='fed_meeting.mp4')"
      ],
      "metadata": {
        "id": "9_0A-BfHBF8f"
      },
      "execution_count": null,
      "outputs": []
    },
    {
      "cell_type": "markdown",
      "source": [
        "We do some additional processing of the audio file.\n",
        "We choose to ignore any additional sound and speech after Jeromme Powell speaks. So we'll use ffmpeg for this.\n",
        "\n",
        "The command will start the audio at the 378 seconds mark when he starts to speak and continue for 2715 seconds and chop off the rest of the audio and save the results in a new file cal fed_meeting_trimmed.mp4"
      ],
      "metadata": {
        "id": "eWYT2GEdBxMP"
      }
    },
    {
      "cell_type": "code",
      "source": [
        "#!ffmpeg -ss 378 -i fed_meeting.mp4 -t 2715 fed_meeting_trimmed.mp4"
      ],
      "metadata": {
        "id": "Y1Xx0FIdBVP7"
      },
      "execution_count": null,
      "outputs": []
    },
    {
      "cell_type": "code",
      "source": [
        "import datetime\n",
        "\n",
        "# save a timestamp before transcription\n",
        "t1 = datetime.datetime.now()\n",
        "print('started at', t1)\n",
        "\n",
        "# do the transcription\n",
        "output = model.transcribe('fed_meeting.mp4')\n",
        "\n",
        "# show time elapsed after transcription is complete\n",
        "t2 = datetime.datetime.now()\n",
        "print('ended at', t2)\n",
        "print('time elapsed', t2 - t1)"
      ],
      "metadata": {
        "id": "eMCulnX4Cu-6"
      },
      "execution_count": null,
      "outputs": []
    },
    {
      "cell_type": "code",
      "source": [
        "output['segments']"
      ],
      "metadata": {
        "id": "C2AIkAMdEGg2"
      },
      "execution_count": null,
      "outputs": []
    },
    {
      "cell_type": "code",
      "source": [
        "import pandas as pd"
      ],
      "metadata": {
        "id": "bpIFIkwfF8ph"
      },
      "execution_count": null,
      "outputs": []
    },
    {
      "cell_type": "code",
      "source": [
        "spy = pd.read_csv('SPY.csv')\n",
        "#spy.set_index('date', inplace=True)"
      ],
      "metadata": {
        "id": "7efrb7uOIAj7"
      },
      "execution_count": null,
      "outputs": []
    },
    {
      "cell_type": "code",
      "source": [
        "spy"
      ],
      "metadata": {
        "id": "izNJ-Bm5IOur"
      },
      "execution_count": null,
      "outputs": []
    },
    {
      "cell_type": "code",
      "source": [
        "for segment in output['segments']:\n",
        "  second = int(segment['start'])\n",
        "  second = second - (second % 5)\n",
        "  spy.loc[second / 5, 'text'] = segment['text']"
      ],
      "metadata": {
        "id": "1UJ1vyigITCI"
      },
      "execution_count": null,
      "outputs": []
    },
    {
      "cell_type": "code",
      "source": [
        "spy = spy[:574]"
      ],
      "metadata": {
        "id": "-_2FLkN360aM"
      },
      "execution_count": null,
      "outputs": []
    },
    {
      "cell_type": "code",
      "source": [
        "spy['percent'] = ((spy['close'] - spy['open']) / spy['open']) * 100\n",
        "spy"
      ],
      "metadata": {
        "id": "2Gzr5VQEIv-Q"
      },
      "execution_count": null,
      "outputs": []
    },
    {
      "cell_type": "code",
      "source": [
        "big_upmoves = spy[spy.percent > .05]\n",
        "big_upmoves"
      ],
      "metadata": {
        "id": "VJu-C2WYJA2W"
      },
      "execution_count": null,
      "outputs": []
    },
    {
      "cell_type": "code",
      "source": [
        "!pip install mplfinance -q\n",
        "import mplfinance as mpf"
      ],
      "metadata": {
        "id": "HHWy1D8lJMgY"
      },
      "execution_count": null,
      "outputs": []
    },
    {
      "cell_type": "code",
      "source": [
        "df = spy.copy()\n",
        "df.columns = ['Date', 'Open', 'High', 'Low', 'Close', 'Volume', 'Text', 'Percent']\n",
        "#print(df)\n",
        "df.set_index('Date', inplace=True)\n",
        "df.index = pd.DatetimeIndex(df.index)\n",
        "#print(df.index)\n",
        "\n",
        "mpf.plot(df.iloc[72:233], type='candle')"
      ],
      "metadata": {
        "id": "4goS6xa4JVjg"
      },
      "execution_count": null,
      "outputs": []
    },
    {
      "cell_type": "code",
      "source": [
        "spy[72:233]"
      ],
      "metadata": {
        "id": "dkT9oEZgJscl"
      },
      "execution_count": null,
      "outputs": []
    }
  ]
}